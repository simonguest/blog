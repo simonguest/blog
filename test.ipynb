{
 "cells": [
  {
   "cell_type": "code",
   "execution_count": 14,
   "metadata": {},
   "outputs": [
    {
     "name": "stdout",
     "output_type": "stream",
     "text": [
      ":::summary\n",
      "## [Why Don't Software Developers Practice?](https://www.example.com)\n",
      "Many professions, such as athletes and musicians, incorporate practice into their daily routines, but software development is an exception to the rule. In this article, I explore why this is concerning and offer five steps for introducing practice into the profession.\n",
      "## 05/28/2022 · 5 min read\n",
      ":::\n"
     ]
    }
   ],
   "source": [
    "from yaml import safe_load_all, YAMLError\n",
    "\n",
    "def create_summary(doc, url, minutes_to_read):\n",
    "    print(\":::summary\")\n",
    "    print('## [{}]({})'.format(doc['title'], url))\n",
    "    print(doc['synopsis'])\n",
    "    print('## {} · {} min read'.format(doc['created'], minutes_to_read))\n",
    "    print(\":::\")\n",
    "\n",
    "\n",
    "with open(\"./content/articles/software-practice.md\") as stream:\n",
    "    try:\n",
    "        docs = safe_load_all(stream)\n",
    "        create_summary(next(docs), 'https://www.example.com', 5)\n",
    "    except YAMLError as exc:\n",
    "        print(exc)"
   ]
  },
  {
   "cell_type": "markdown",
   "metadata": {},
   "source": []
  }
 ],
 "metadata": {
  "kernelspec": {
   "display_name": "Python 3",
   "language": "python",
   "name": "python3"
  },
  "language_info": {
   "codemirror_mode": {
    "name": "ipython",
    "version": 3
   },
   "file_extension": ".py",
   "mimetype": "text/x-python",
   "name": "python",
   "nbconvert_exporter": "python",
   "pygments_lexer": "ipython3",
   "version": "3.11.2"
  },
  "orig_nbformat": 4,
  "vscode": {
   "interpreter": {
    "hash": "06b097ca1118b2c77293dc18a50e4949711f8c93aaf11557441877efdd46f438"
   }
  }
 },
 "nbformat": 4,
 "nbformat_minor": 2
}
